{
 "metadata": {
  "name": "",
  "signature": "sha256:c36ccaa18747bc33851d97c9fc423867c3d85a07bb1ace935e097177fe6fa746"
 },
 "nbformat": 3,
 "nbformat_minor": 0,
 "worksheets": [
  {
   "cells": [
    {
     "cell_type": "code",
     "collapsed": false,
     "input": [
      "%matplotlib inline\n",
      "import gnumpy as gpu\n",
      "import cPickle as pickle\n",
      "import matplotlib.pyplot as plt\n",
      "import numpy\n",
      "from scipy.stats import norm"
     ],
     "language": "python",
     "metadata": {},
     "outputs": [],
     "prompt_number": 25
    },
    {
     "cell_type": "code",
     "collapsed": false,
     "input": [
      "fp=open(\"mlTask.hyb.pt.gui/bprop.38.file.10.nnet\")"
     ],
     "language": "python",
     "metadata": {},
     "outputs": [],
     "prompt_number": 2
    },
    {
     "cell_type": "code",
     "collapsed": false,
     "input": [
      "net=pickle.load(fp)"
     ],
     "language": "python",
     "metadata": {},
     "outputs": [],
     "prompt_number": 3
    },
    {
     "cell_type": "markdown",
     "metadata": {},
     "source": [
      "Layer 1 Weights MLTask\n",
      "===="
     ]
    },
    {
     "cell_type": "code",
     "collapsed": false,
     "input": [
      "l1wts=net.weights[0].as_numpy_array()\n",
      "l1wts=l1wts[:]\n",
      "[r,c]=l1wts.shape\n",
      "ltwts=l1wts.reshape(r*c)"
     ],
     "language": "python",
     "metadata": {},
     "outputs": [],
     "prompt_number": 4
    },
    {
     "cell_type": "code",
     "collapsed": false,
     "input": [
      "(mu1m,sig1m)=norm.fit(l1wts)\n",
      "\n",
      "n, bins, patches = plt.hist(ltwts, 100, normed=1, facecolor='g', alpha=0.75)\n",
      "\n",
      "plt.title(r'$\\mathrm{Histogram\\ of\\ L1:}\\ \\mu=%.3f,\\ \\sigma=%.3f$' %(mu1m,sig1m))\n",
      "plt.show()"
     ],
     "language": "python",
     "metadata": {},
     "outputs": [
      {
       "metadata": {},
       "output_type": "display_data",
       "png": "[encoded data removed]",
       "text": [
        "<matplotlib.figure.Figure at 0x706f4d0>"
       ]
      }
     ],
     "prompt_number": 28
    },
    {
     "cell_type": "markdown",
     "metadata": {},
     "source": [
      "Layer 1 Weights GE\n",
      "==="
     ]
    },
    {
     "cell_type": "code",
     "collapsed": false,
     "input": [
      "fp2=open(\"../GE.1/tr.pt.bp.hyb.1/bprop.39.nnet\")\n",
      "net2=pickle.load(fp2)\n",
      "l1wtsGE=net2.weights[0].as_numpy_array()\n",
      "[r1GE,c1GE]=l1wtsGE.shape\n",
      "l1wtsGE=l1wtsGE.reshape(r1GE*c1GE)\n"
     ],
     "language": "python",
     "metadata": {},
     "outputs": []
    },
    {
     "cell_type": "code",
     "collapsed": false,
     "input": [
      "(mu1mGE,sig1mGE)=norm.fit(l1wtsGE)\n",
      "n, bins, patches = plt.hist(l1wtsGE, 100, normed=1, facecolor='g', alpha=0.75)\n",
      "plt.title(r'$\\mathrm{Histogram\\ of\\ L1-GE:}\\ \\mu=%.3f,\\ \\sigma=%.3f$' %(mu1mGE,sig1mGE))\n",
      "plt.show()"
     ],
     "language": "python",
     "metadata": {},
     "outputs": [
      {
       "metadata": {},
       "output_type": "display_data",
       "png": "[encoded data removed]",
       "text": [
        "<matplotlib.figure.Figure at 0x8039c50>"
       ]
      }
     ],
     "prompt_number": 29
    },
    {
     "cell_type": "markdown",
     "metadata": {},
     "source": [
      "Layer 2 Weights MLTask\n",
      "==="
     ]
    },
    {
     "cell_type": "code",
     "collapsed": false,
     "input": [
      "l2wts=net.weights[1].as_numpy_array()\n",
      "[r,c]=l2wts.shape\n",
      "l2wts=l2wts.reshape(r*c)\n",
      "(mu2m,sig2m)=norm.fit(l2wts)\n",
      "n, bins, patches = plt.hist(l2wts, 100, normed=1, facecolor='g', alpha=0.75)\n",
      "plt.title(r'$\\mathrm{Histogram\\ of\\ L2:}\\ \\mu=%.3f,\\ \\sigma=%.3f$' %(mu2m,sig2m))\n",
      "plt.show()"
     ],
     "language": "python",
     "metadata": {},
     "outputs": [
      {
       "metadata": {},
       "output_type": "display_data",
       "png": "[encoded data removed]",
       "text": [
        "<matplotlib.figure.Figure at 0x52959dd0>"
       ]
      }
     ],
     "prompt_number": 31
    },
    {
     "cell_type": "markdown",
     "metadata": {},
     "source": [
      "Layer 2 Weights GE\n",
      "==="
     ]
    },
    {
     "cell_type": "code",
     "collapsed": false,
     "input": [
      "l2wtsGE=net2.weights[1].as_numpy_array()\n",
      "[r2GE,c2GE]=l2wtsGE.shape\n",
      "l2wtsGE=l2wtsGE.reshape(r2GE*c2GE)\n",
      "(mu2mGE,sig2mGE)=norm.fit(l2wtsGE)\n",
      "plt.title(r'$\\mathrm{Histogram\\ of\\ L2-GE:}\\ \\mu=%.3f,\\ \\sigma=%.3f$' %(mu2mGE,sig2mGE))\n",
      "n, bins, patches = plt.hist(l2wtsGE, 100, normed=1, facecolor='g', alpha=0.75)\n",
      "plt.show()"
     ],
     "language": "python",
     "metadata": {},
     "outputs": [
      {
       "metadata": {},
       "output_type": "display_data",
       "png": "[encoded data removed]",
       "text": [
        "<matplotlib.figure.Figure at 0x53b72f90>"
       ]
      }
     ],
     "prompt_number": 36
    },
    {
     "cell_type": "markdown",
     "metadata": {},
     "source": [
      "Layer 3 weights MLTask\n",
      "==="
     ]
    },
    {
     "cell_type": "code",
     "collapsed": false,
     "input": [
      "l3wts=net.weights[2].as_numpy_array()\n",
      "[r,c]=l3wts.shape\n",
      "l3wts=l3wts.reshape(r*c)\n",
      "(mu3m,sig3m)=norm.fit(l3wts)\n",
      "n, bins, patches = plt.hist(l3wts, 100, normed=1, facecolor='g', alpha=0.75)\n",
      "plt.title(r'$\\mathrm{Histogram\\ of\\ L3-MLTask:}\\ \\mu=%.3f,\\ \\sigma=%.3f$' %(mu3m,sig3m))\n",
      "plt.show()"
     ],
     "language": "python",
     "metadata": {},
     "outputs": [
      {
       "metadata": {},
       "output_type": "display_data",
       "png": "[encoded data removed]",
       "text": [
        "<matplotlib.figure.Figure at 0x71d046d0>"
       ]
      }
     ],
     "prompt_number": 35
    },
    {
     "cell_type": "markdown",
     "metadata": {},
     "source": [
      "Layer 3 weights GE\n",
      "==="
     ]
    },
    {
     "cell_type": "code",
     "collapsed": false,
     "input": [
      "l3wtsGE=net2.weights[2].as_numpy_array()\n",
      "[r3GE,c3GE]=l3wtsGE.shape\n",
      "l3wtsGE=l3wtsGE.reshape(r3GE*c3GE)\n",
      "(mu3mGE,sig3mGE)=norm.fit(l3wtsGE)\n",
      "n, bins, patches = plt.hist(l3wtsGE, 100, normed=1, facecolor='g', alpha=0.75)\n",
      "plt.title(r'$\\mathrm{Histogram\\ of\\ L3-GE:}\\ \\mu=%.3f,\\ \\sigma=%.3f$' %(mu3mGE,sig3mGE))\n",
      "plt.show()"
     ],
     "language": "python",
     "metadata": {},
     "outputs": [
      {
       "metadata": {},
       "output_type": "display_data",
       "png": "[encoded data removed]",
       "text": [
        "<matplotlib.figure.Figure at 0x6988a8d0>"
       ]
      }
     ],
     "prompt_number": 37
    },
    {
     "cell_type": "markdown",
     "metadata": {},
     "source": [
      "Layer 4 weights MLTask\n",
      "==="
     ]
    },
    {
     "cell_type": "code",
     "collapsed": false,
     "input": [
      "l4wts=net.weights[3].as_numpy_array()\n",
      "[r,c]=l4wts.shape\n",
      "l4wts=l4wts.reshape(r*c)\n",
      "(mu4m,sig4m)=norm.fit(l4wts)\n",
      "n, bins, patches = plt.hist(l4wts, 100, normed=1, facecolor='g', alpha=0.75)\n",
      "plt.title(r'$\\mathrm{Histogram\\ of\\ L4-MLTask:}\\ \\mu=%.3f,\\ \\sigma=%.3f$' %(mu4m,sig4m))\n",
      "plt.show()"
     ],
     "language": "python",
     "metadata": {},
     "outputs": [
      {
       "metadata": {},
       "output_type": "display_data",
       "png": "[encoded data removed]",
       "text": [
        "<matplotlib.figure.Figure at 0x53a392d0>"
       ]
      }
     ],
     "prompt_number": 38
    },
    {
     "cell_type": "markdown",
     "metadata": {},
     "source": [
      "Layer 4 Weights GE\n",
      "===="
     ]
    },
    {
     "cell_type": "code",
     "collapsed": false,
     "input": [
      "l4wtsGE=net2.weights[3].as_numpy_array()\n",
      "[r4GE,c4GE]=l4wtsGE.shape\n",
      "l4wtsGE=l4wtsGE.reshape(r4GE*c4GE)\n",
      "(mu4mGE,sig4mGE)=norm.fit(l4wtsGE)\n",
      "n, bins, patches = plt.hist(l4wtsGE, 100, normed=1, facecolor='g', alpha=0.75)\n",
      "plt.title(r'$\\mathrm{Histogram\\ of\\ L4-GE:}\\ \\mu=%.3f,\\ \\sigma=%.3f$' %(mu4mGE,sig4mGE))\n",
      "plt.show()"
     ],
     "language": "python",
     "metadata": {},
     "outputs": [
      {
       "metadata": {},
       "output_type": "display_data",
       "png": "[encoded data removed]",
       "text": [
        "<matplotlib.figure.Figure at 0x53373b90>"
       ]
      }
     ],
     "prompt_number": 39
    },
    {
     "cell_type": "code",
     "collapsed": false,
     "input": [
      "net.weights[4].shape"
     ],
     "language": "python",
     "metadata": {},
     "outputs": [
      {
       "metadata": {},
       "output_type": "pyout",
       "prompt_number": 22,
       "text": [
        "(1024, 9291)"
       ]
      }
     ],
     "prompt_number": 22
    },
    {
     "cell_type": "code",
     "collapsed": false,
     "input": [
      "net2.weights[4].shape"
     ],
     "language": "python",
     "metadata": {},
     "outputs": [
      {
       "metadata": {},
       "output_type": "pyout",
       "prompt_number": 23,
       "text": [
        "(1024, 3095)"
       ]
      }
     ],
     "prompt_number": 23
    },
    {
     "cell_type": "code",
     "collapsed": false,
     "input": [],
     "language": "python",
     "metadata": {},
     "outputs": []
    }
   ],
   "metadata": {}
  }
 ]
}